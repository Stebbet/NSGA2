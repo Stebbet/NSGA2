{
 "cells": [
  {
   "metadata": {
    "ExecuteTime": {
     "end_time": "2025-03-28T10:35:09.352317Z",
     "start_time": "2025-03-28T10:35:09.345366Z"
    }
   },
   "cell_type": "code",
   "source": [
    "import numpy as np\n",
    "import matplotlib.pyplot as plt\n",
    "from typing import List, Tuple, Callable"
   ],
   "id": "f2a714ce08545e6d",
   "outputs": [],
   "execution_count": 25
  },
  {
   "metadata": {
    "ExecuteTime": {
     "end_time": "2025-03-28T10:35:09.362934Z",
     "start_time": "2025-03-28T10:35:09.355722Z"
    }
   },
   "cell_type": "code",
   "source": [
    "\n",
    "class MLPRegressor:\n",
    "    def __init__(self, layer_sizes, learning_rate=0.01, epochs=1000):\n",
    "        self.layer_sizes = layer_sizes\n",
    "        self.learning_rate = learning_rate\n",
    "        self.epochs = epochs\n",
    "        self.weights = []\n",
    "        self.biases = []\n",
    "        self._initialize_weights()\n",
    "        self.loss = []\n",
    "\n",
    "    def _initialize_weights(self):\n",
    "        for i in range(len(self.layer_sizes) - 1):\n",
    "            self.weights.append(np.random.randn(self.layer_sizes[i], self.layer_sizes[i+1]) * 0.01)\n",
    "            self.biases.append(np.zeros((1, self.layer_sizes[i+1])))\n",
    "\n",
    "    def _relu(self, x):\n",
    "        return np.maximum(0, x)\n",
    "\n",
    "    def _relu_derivative(self, x):\n",
    "        return (x > 0).astype(float)\n",
    "\n",
    "    def _forward(self, X):\n",
    "        activations = [X]\n",
    "        pre_activations = []\n",
    "        for W, b in zip(self.weights[:-1], self.biases[:-1]):\n",
    "            Z = np.dot(activations[-1], W) + b\n",
    "            pre_activations.append(Z)\n",
    "            A = self._relu(Z)\n",
    "            activations.append(A)\n",
    "        Z_out = np.dot(activations[-1], self.weights[-1]) + self.biases[-1]\n",
    "        pre_activations.append(Z_out)\n",
    "        activations.append(Z_out)  # Output layer has no activation function for regression\n",
    "        return activations, pre_activations\n",
    "\n",
    "    def _backward(self, activations, pre_activations, Y):\n",
    "        m = Y.shape[0]\n",
    "        dW = []\n",
    "        db = []\n",
    "        dZ = activations[-1] - Y  # Mean Squared Error derivative\n",
    "\n",
    "        for i in reversed(range(len(self.weights))):\n",
    "            dW_i = np.dot(activations[i].T, dZ) / m\n",
    "            db_i = np.sum(dZ, axis=0, keepdims=True) / m\n",
    "            dW.insert(0, dW_i)\n",
    "            db.insert(0, db_i)\n",
    "            if i > 0:\n",
    "                dZ = np.dot(dZ, self.weights[i].T) * self._relu_derivative(pre_activations[i-1])\n",
    "\n",
    "        return dW, db\n",
    "\n",
    "    def _update_weights(self, dW, db):\n",
    "        for i in range(len(self.weights)):\n",
    "            self.weights[i] -= self.learning_rate * dW[i]\n",
    "            self.biases[i] -= self.learning_rate * db[i]\n",
    "\n",
    "    def fit(self, X, Y):\n",
    "        for epoch in range(self.epochs):\n",
    "            activations, pre_activations = self._forward(X)\n",
    "            dW, db = self._backward(activations, pre_activations, Y)\n",
    "            self._update_weights(dW, db)\n",
    "\n",
    "            if epoch % 100 == 0:\n",
    "                self.loss.append(np.mean((activations[-1] - Y) ** 2))\n",
    "                print(f\"Epoch {epoch}, Loss: {self.loss[-1]:.4f}\")\n",
    "\n",
    "    def predict(self, X):\n",
    "        activations, _ = self._forward(X)\n",
    "        return activations[-1]"
   ],
   "id": "8f53721e942b2d1d",
   "outputs": [],
   "execution_count": 26
  },
  {
   "metadata": {
    "ExecuteTime": {
     "end_time": "2025-03-28T10:35:11.159791Z",
     "start_time": "2025-03-28T10:35:09.377674Z"
    }
   },
   "cell_type": "code",
   "source": [
    "from sklearn.datasets import make_regression\n",
    "from sklearn.model_selection import train_test_split\n",
    "\n",
    "\n",
    "X, y = make_regression(n_samples=10000, n_features=5, n_targets=3, noise=1, random_state=42)\n",
    "\n",
    "X_train, X_test, y_train, y_test = train_test_split(X, y, test_size=0.2, random_state=42)\n",
    "\n",
    "mlp = MLPRegressor([5, 10, 3], learning_rate=0.01, epochs=1000)\n",
    "mlp.fit(X_train, y_train)\n",
    "\n",
    "plt.plot(mlp.loss)\n",
    "plt.title(\"Training Loss\")\n",
    "plt.xlabel(\"epochs\")\n",
    "plt.ylabel(\"loss\")\n",
    "plt.show()\n"
   ],
   "id": "4378bd8dc5e2ebe0",
   "outputs": [
    {
     "name": "stdout",
     "output_type": "stream",
     "text": [
      "Epoch 0, Loss: 16863.0699\n",
      "Epoch 100, Loss: 2174.5679\n",
      "Epoch 200, Loss: 2730.3555\n",
      "Epoch 300, Loss: 3362.3810\n",
      "Epoch 400, Loss: 2286.0956\n",
      "Epoch 500, Loss: 3275.7359\n",
      "Epoch 600, Loss: 2805.6285\n",
      "Epoch 700, Loss: 2156.0005\n",
      "Epoch 800, Loss: 2799.7708\n",
      "Epoch 900, Loss: 1760.6206\n"
     ]
    },
    {
     "data": {
      "text/plain": [
       "<Figure size 640x480 with 1 Axes>"
      ],
      "image/png": "[encoded data removed]"
     },
     "metadata": {},
     "output_type": "display_data"
    }
   ],
   "execution_count": 27
  },
  {
   "metadata": {
    "ExecuteTime": {
     "end_time": "2025-03-28T10:35:11.238499Z",
     "start_time": "2025-03-28T10:35:11.225780Z"
    }
   },
   "cell_type": "code",
   "source": [
    "# generate predictions\n",
    "y_pred = mlp.predict(X_test)\n",
    "\n",
    "print(f\"MSE: {np.mean((y_pred - y_test) ** 2)}\\nMAE: {np.mean(np.abs(y_pred - y_test))}\")"
   ],
   "id": "96142efce547ed1d",
   "outputs": [
    {
     "name": "stdout",
     "output_type": "stream",
     "text": [
      "MSE: 2757.990232231531\n",
      "MAE: 41.07351076890006\n"
     ]
    }
   ],
   "execution_count": 28
  }
 ],
 "metadata": {
  "kernelspec": {
   "name": "python3",
   "language": "python",
   "display_name": "Python 3 (ipykernel)"
  }
 },
 "nbformat": 5,
 "nbformat_minor": 9
}
